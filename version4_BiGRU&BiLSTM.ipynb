{
 "cells": [
  {
   "cell_type": "code",
   "execution_count": 1,
   "metadata": {},
   "outputs": [
    {
     "name": "stderr",
     "output_type": "stream",
     "text": [
      "Using TensorFlow backend.\n"
     ]
    }
   ],
   "source": [
    "import warnings\n",
    "warnings.simplefilter(\"ignore\")\n",
    "import os\n",
    "os.environ[\"CUDA_VISIBLE_DEVICES\"] = \"0\"\n",
    "import numpy as np\n",
    "import pandas as pd\n",
    "pd.set_option(\"display.max_columns\", None)\n",
    "import matplotlib.pyplot as plt\n",
    "%matplotlib inline\n",
    "import gensim\n",
    "from keras.callbacks import Callback, ModelCheckpoint, EarlyStopping\n",
    "from keras.initializers import Constant\n",
    "from keras.layers import (Input, Embedding, SpatialDropout1D, Bidirectional,\n",
    "                          GlobalAveragePooling1D, GlobalMaxPooling1D,\n",
    "                          LSTM, CuDNNLSTM, GRU, CuDNNGRU, concatenate, Dropout, Dense, Activation)\n",
    "from keras.models import Model\n",
    "from keras.preprocessing.sequence import pad_sequences\n",
    "from keras.preprocessing.text import Tokenizer\n",
    "from sklearn.metrics import roc_auc_score\n",
    "from sklearn.model_selection import train_test_split"
   ]
  },
  {
   "cell_type": "code",
   "execution_count": 2,
   "metadata": {},
   "outputs": [],
   "source": [
    "NUM_WORDS = 50000\n",
    "MAXLEN = 250\n",
    "EMBEDDING_DIM = 300"
   ]
  },
  {
   "cell_type": "code",
   "execution_count": 3,
   "metadata": {},
   "outputs": [],
   "source": [
    "class RocAucEvaluation(Callback):\n",
    "    def __init__(self, validation_data):\n",
    "        self.X_val, self.y_val = validation_data\n",
    "    def on_epoch_end(self, epoch, logs=None):\n",
    "        y_pred = self.model.predict(self.X_val, verbose=0)\n",
    "        score = roc_auc_score(self.y_val, y_pred)\n",
    "        print(\"\\n ROC-AUC - epoch: {:d} - score: {:.6f}\".format(epoch + 1, score))"
   ]
  },
  {
   "cell_type": "code",
   "execution_count": 4,
   "metadata": {},
   "outputs": [],
   "source": [
    "train = pd.read_csv('data/train.csv')\n",
    "test = pd.read_csv('data/test.csv')\n",
    "classes = [\"toxic\", \"severe_toxic\", \"obscene\", \"threat\", \"insult\", \"identity_hate\"]\n",
    "X_train_raw, y_train = train['comment_text'].str.lower(), train[classes].values\n",
    "X_test_raw = test['comment_text'].str.lower()\n",
    "tk = Tokenizer(num_words=NUM_WORDS)\n",
    "tk.fit_on_texts(X_train_raw)\n",
    "X_train = tk.texts_to_sequences(X_train_raw)\n",
    "X_test = tk.texts_to_sequences(X_test_raw)\n",
    "X_train, X_valid, y_train, y_valid = train_test_split(X_train, y_train, test_size=0.1, random_state=0)\n",
    "X_train = pad_sequences(X_train, maxlen=MAXLEN)\n",
    "X_valid = pad_sequences(X_valid, maxlen=MAXLEN)\n",
    "X_test = pad_sequences(X_test, maxlen=MAXLEN)\n",
    "nb_words = min(NUM_WORDS, len(tk.word_index) + 1)"
   ]
  },
  {
   "cell_type": "code",
   "execution_count": 5,
   "metadata": {},
   "outputs": [],
   "source": [
    "def get_coefs(word, *arr):\n",
    "    return word, np.asarray(arr, dtype='float32')\n",
    "\n",
    "\n",
    "def get_embedding(pretrained_word_vectors):\n",
    "    if pretrained_word_vectors == \"google\":\n",
    "        EMBEDDING_PATH = \"../embeddings/GoogleNews-vectors-negative300.bin\"\n",
    "        embedding_index = gensim.models.KeyedVectors.load_word2vec_format(EMBEDDING_PATH, binary=True)\n",
    "    if pretrained_word_vectors == \"glove\":\n",
    "        EMBEDDING_PATH = \"../embeddings/glove.840B.300d.txt\"\n",
    "        embedding_index = dict(get_coefs(*o.strip().split(\" \")) for o in open(EMBEDDING_PATH))\n",
    "    elif pretrained_word_vectors == \"fasttext\":\n",
    "        EMBEDDING_PATH = \"../embeddings/crawl-300d-2M.vec\"\n",
    "        embedding_index = dict(get_coefs(*o.strip().split(\" \")) for o in open(EMBEDDING_PATH))\n",
    "    embedding_matrix = np.zeros((nb_words, EMBEDDING_DIM))\n",
    "    for word, i in tk.word_index.items():\n",
    "        if i >= NUM_WORDS:\n",
    "            continue\n",
    "        if pretrained_word_vectors == \"google\":\n",
    "            try:\n",
    "                embedding_vector = embedding_index.get_vector(word)\n",
    "            except Exception:\n",
    "                continue\n",
    "            embedding_matrix[i] = embedding_vector\n",
    "        else:\n",
    "            embedding_vector = embedding_index.get(word)\n",
    "            if embedding_vector is not None:\n",
    "                embedding_matrix[i] = embedding_vector\n",
    "    return embedding_matrix"
   ]
  },
  {
   "cell_type": "code",
   "execution_count": 6,
   "metadata": {},
   "outputs": [],
   "source": [
    "def build_model(embedding_matrix):\n",
    "    inputs = Input(shape=(MAXLEN,))\n",
    "    x = Embedding(nb_words, EMBEDDING_DIM,\n",
    "                  embeddings_initializer=Constant(embedding_matrix),\n",
    "                  trainable=False)(inputs)\n",
    "    x = SpatialDropout1D(0.2)(x)\n",
    "    x1 = Bidirectional(CuDNNGRU(128, return_sequences=True))(x)\n",
    "    x2 = Bidirectional(CuDNNLSTM(128, return_sequences=True))(x)\n",
    "    avg_pool1 = GlobalAveragePooling1D()(x1)\n",
    "    max_pool1 = GlobalMaxPooling1D()(x1)\n",
    "    avg_pool2 = GlobalAveragePooling1D()(x2)\n",
    "    max_pool2 = GlobalMaxPooling1D()(x2)\n",
    "    x = concatenate([avg_pool1, max_pool1, avg_pool2, max_pool2])\n",
    "    x = Dense(64, activation='relu')(x)\n",
    "    x = Dropout(0.2)(x)\n",
    "    outputs = Dense(6, activation=\"sigmoid\")(x)\n",
    "    model = Model(inputs=inputs, outputs=outputs)\n",
    "    model.compile(loss='binary_crossentropy', optimizer=\"adam\", metrics=['accuracy'])\n",
    "    return model"
   ]
  },
  {
   "cell_type": "code",
   "execution_count": 7,
   "metadata": {},
   "outputs": [
    {
     "name": "stdout",
     "output_type": "stream",
     "text": [
      "WARNING:tensorflow:From /home/sunxin/miniconda3/envs/qinhanmin-test/lib/python3.7/site-packages/tensorflow/python/framework/op_def_library.py:263: colocate_with (from tensorflow.python.framework.ops) is deprecated and will be removed in a future version.\n",
      "Instructions for updating:\n",
      "Colocations handled automatically by placer.\n",
      "WARNING:tensorflow:From /home/sunxin/miniconda3/envs/qinhanmin-test/lib/python3.7/site-packages/keras/backend/tensorflow_backend.py:3445: calling dropout (from tensorflow.python.ops.nn_ops) with keep_prob is deprecated and will be removed in a future version.\n",
      "Instructions for updating:\n",
      "Please use `rate` instead of `keep_prob`. Rate should be set to `rate = 1 - keep_prob`.\n",
      "WARNING:tensorflow:From /home/sunxin/miniconda3/envs/qinhanmin-test/lib/python3.7/site-packages/tensorflow/python/ops/math_ops.py:3066: to_int32 (from tensorflow.python.ops.math_ops) is deprecated and will be removed in a future version.\n",
      "Instructions for updating:\n",
      "Use tf.cast instead.\n",
      "WARNING:tensorflow:From /home/sunxin/miniconda3/envs/qinhanmin-test/lib/python3.7/site-packages/tensorflow/python/ops/math_grad.py:102: div (from tensorflow.python.ops.math_ops) is deprecated and will be removed in a future version.\n",
      "Instructions for updating:\n",
      "Deprecated in favor of operator or tf.math.divide.\n",
      "Train on 143613 samples, validate on 15958 samples\n",
      "Epoch 1/10\n",
      "143613/143613 [==============================] - 84s 585us/step - loss: 0.0596 - acc: 0.9792 - val_loss: 0.0433 - val_acc: 0.9835\n",
      "\n",
      " ROC-AUC - epoch: 1 - score: 0.984583\n",
      "Epoch 2/10\n",
      "143613/143613 [==============================] - 84s 588us/step - loss: 0.0446 - acc: 0.9830 - val_loss: 0.0408 - val_acc: 0.9841\n",
      "\n",
      " ROC-AUC - epoch: 2 - score: 0.989320\n",
      "Epoch 3/10\n",
      "143613/143613 [==============================] - 85s 594us/step - loss: 0.0414 - acc: 0.9837 - val_loss: 0.0396 - val_acc: 0.9844\n",
      "\n",
      " ROC-AUC - epoch: 3 - score: 0.989800\n",
      "Epoch 4/10\n",
      "143613/143613 [==============================] - 85s 595us/step - loss: 0.0393 - acc: 0.9845 - val_loss: 0.0395 - val_acc: 0.9843\n",
      "\n",
      " ROC-AUC - epoch: 4 - score: 0.989767\n",
      "Epoch 5/10\n",
      "143613/143613 [==============================] - 86s 596us/step - loss: 0.0374 - acc: 0.9850 - val_loss: 0.0398 - val_acc: 0.9845\n",
      "\n",
      " ROC-AUC - epoch: 5 - score: 0.989785\n",
      "Epoch 6/10\n",
      "143613/143613 [==============================] - 85s 595us/step - loss: 0.0354 - acc: 0.9855 - val_loss: 0.0399 - val_acc: 0.9846\n",
      "\n",
      " ROC-AUC - epoch: 6 - score: 0.989520\n",
      "Epoch 7/10\n",
      "143613/143613 [==============================] - 85s 595us/step - loss: 0.0334 - acc: 0.9863 - val_loss: 0.0414 - val_acc: 0.9838\n",
      "\n",
      " ROC-AUC - epoch: 7 - score: 0.989740\n",
      "153164/153164 [==============================] - 16s 106us/step\n"
     ]
    }
   ],
   "source": [
    "embedding_matrix = get_embedding(\"glove\")\n",
    "roc_eval = RocAucEvaluation(validation_data=(X_valid, y_valid))\n",
    "early_stopping = EarlyStopping(patience=3, restore_best_weights=True)\n",
    "model = build_model(embedding_matrix=embedding_matrix)\n",
    "model.fit(X_train, y_train, batch_size=128, epochs=10,\n",
    "          validation_data=(X_valid, y_valid),\n",
    "          callbacks = [roc_eval, early_stopping])\n",
    "pred = model.predict(X_test, batch_size=1024, verbose=1)\n",
    "submission = pd.read_csv(\"data/sample_submission.csv\")\n",
    "submission[classes] = pred\n",
    "submission.to_csv(\"submission/v4_BiGRU_BiLSTM_glove_submission.csv.gz\", compression=\"gzip\", index=False)"
   ]
  },
  {
   "cell_type": "code",
   "execution_count": 8,
   "metadata": {},
   "outputs": [
    {
     "name": "stdout",
     "output_type": "stream",
     "text": [
      "Train on 143613 samples, validate on 15958 samples\n",
      "Epoch 1/10\n",
      "143613/143613 [==============================] - 82s 571us/step - loss: 0.0618 - acc: 0.9786 - val_loss: 0.0457 - val_acc: 0.9822\n",
      "\n",
      " ROC-AUC - epoch: 1 - score: 0.984234\n",
      "Epoch 2/10\n",
      "143613/143613 [==============================] - 86s 597us/step - loss: 0.0452 - acc: 0.9828 - val_loss: 0.0405 - val_acc: 0.9845\n",
      "\n",
      " ROC-AUC - epoch: 2 - score: 0.987443\n",
      "Epoch 3/10\n",
      "143613/143613 [==============================] - 86s 596us/step - loss: 0.0423 - acc: 0.9837 - val_loss: 0.0396 - val_acc: 0.9843\n",
      "\n",
      " ROC-AUC - epoch: 3 - score: 0.989650\n",
      "Epoch 4/10\n",
      "143613/143613 [==============================] - 87s 604us/step - loss: 0.0400 - acc: 0.9843 - val_loss: 0.0398 - val_acc: 0.9841\n",
      "\n",
      " ROC-AUC - epoch: 4 - score: 0.989663\n",
      "Epoch 5/10\n",
      "143613/143613 [==============================] - 86s 597us/step - loss: 0.0382 - acc: 0.9849 - val_loss: 0.0394 - val_acc: 0.9843\n",
      "\n",
      " ROC-AUC - epoch: 5 - score: 0.989819\n",
      "Epoch 6/10\n",
      "143613/143613 [==============================] - 83s 581us/step - loss: 0.0362 - acc: 0.9855 - val_loss: 0.0406 - val_acc: 0.9836\n",
      "\n",
      " ROC-AUC - epoch: 6 - score: 0.990094\n",
      "Epoch 7/10\n",
      "143613/143613 [==============================] - 84s 587us/step - loss: 0.0342 - acc: 0.9861 - val_loss: 0.0408 - val_acc: 0.9836\n",
      "\n",
      " ROC-AUC - epoch: 7 - score: 0.989606\n",
      "Epoch 8/10\n",
      "143613/143613 [==============================] - 84s 587us/step - loss: 0.0323 - acc: 0.9869 - val_loss: 0.0410 - val_acc: 0.9842\n",
      "\n",
      " ROC-AUC - epoch: 8 - score: 0.989352\n",
      "153164/153164 [==============================] - 16s 105us/step\n"
     ]
    }
   ],
   "source": [
    "embedding_matrix = get_embedding(\"fasttext\")\n",
    "roc_eval = RocAucEvaluation(validation_data=(X_valid, y_valid))\n",
    "early_stopping = EarlyStopping(patience=3, restore_best_weights=True)\n",
    "model = build_model(embedding_matrix=embedding_matrix)\n",
    "model.fit(X_train, y_train, batch_size=128, epochs=10,\n",
    "          validation_data=(X_valid, y_valid),\n",
    "          callbacks = [roc_eval, early_stopping])\n",
    "pred = model.predict(X_test, batch_size=1024, verbose=1)\n",
    "submission = pd.read_csv(\"data/sample_submission.csv\")\n",
    "submission[classes] = pred\n",
    "submission.to_csv(\"submission/v4_BiGRU_BiLSTM_fasttext_submission.csv.gz\", compression=\"gzip\", index=False)"
   ]
  }
 ],
 "metadata": {
  "kernelspec": {
   "display_name": "work",
   "language": "python",
   "name": "work"
  },
  "language_info": {
   "codemirror_mode": {
    "name": "ipython",
    "version": 3
   },
   "file_extension": ".py",
   "mimetype": "text/x-python",
   "name": "python",
   "nbconvert_exporter": "python",
   "pygments_lexer": "ipython3",
   "version": "3.7.3"
  }
 },
 "nbformat": 4,
 "nbformat_minor": 2
}
