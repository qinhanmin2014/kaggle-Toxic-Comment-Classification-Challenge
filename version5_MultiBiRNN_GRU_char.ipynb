{
 "cells": [
  {
   "cell_type": "code",
   "execution_count": null,
   "metadata": {},
   "outputs": [],
   "source": [
    "import warnings\n",
    "warnings.simplefilter(\"ignore\")\n",
    "import os\n",
    "os.environ[\"CUDA_VISIBLE_DEVICES\"] = \"0\"\n",
    "import gc\n",
    "import numpy as np\n",
    "import pandas as pd\n",
    "pd.set_option(\"display.max_columns\", None)\n",
    "import matplotlib.pyplot as plt\n",
    "%matplotlib inline\n",
    "import gensim\n",
    "import keras.backend as K\n",
    "from keras.callbacks import Callback, ModelCheckpoint, EarlyStopping\n",
    "from keras.initializers import Constant\n",
    "from keras.layers import (Input, Embedding, SpatialDropout1D, Bidirectional,\n",
    "                          GlobalAveragePooling1D, GlobalMaxPooling1D,\n",
    "                          LSTM, CuDNNLSTM, GRU, CuDNNGRU, concatenate, Dropout, Dense, Activation,\n",
    "                          Lambda, Flatten, RepeatVector, Permute, Multiply)\n",
    "from keras.models import Model\n",
    "from keras.optimizers import Adam\n",
    "from keras.preprocessing.sequence import pad_sequences\n",
    "from keras.preprocessing.text import Tokenizer\n",
    "from sklearn.metrics import roc_auc_score\n",
    "from sklearn.model_selection import KFold"
   ]
  },
  {
   "cell_type": "code",
   "execution_count": null,
   "metadata": {},
   "outputs": [],
   "source": [
    "MAXLEN = 1000\n",
    "EMBEDDING_DIM = 100"
   ]
  },
  {
   "cell_type": "code",
   "execution_count": null,
   "metadata": {},
   "outputs": [],
   "source": [
    "class RocAucEvaluation(Callback):\n",
    "    def __init__(self, validation_data):\n",
    "        self.X_val, self.y_val = validation_data\n",
    "    def on_epoch_end(self, epoch, logs=None):\n",
    "        y_pred = self.model.predict(self.X_val, verbose=0)\n",
    "        score = roc_auc_score(self.y_val, y_pred)\n",
    "        print(\"\\n ROC-AUC - epoch: {:d} - score: {:.6f}\".format(epoch + 1, score))"
   ]
  },
  {
   "cell_type": "code",
   "execution_count": null,
   "metadata": {},
   "outputs": [],
   "source": [
    "train = pd.read_csv('data/train.csv')\n",
    "test = pd.read_csv('data/test.csv')\n",
    "train['comment_text'].fillna(\"\", inplace=True)\n",
    "test['comment_text'].fillna(\"\", inplace=True)\n",
    "classes = [\"toxic\", \"severe_toxic\", \"obscene\", \"threat\", \"insult\", \"identity_hate\"]\n",
    "X_train_raw, y_train = train['comment_text'].str.lower(), train[classes].values\n",
    "X_test_raw = test['comment_text'].str.lower()\n",
    "tk = Tokenizer(char_level=True)\n",
    "tk.fit_on_texts(X_train_raw)\n",
    "X_train = tk.texts_to_sequences(X_train_raw)\n",
    "X_test = tk.texts_to_sequences(X_test_raw)\n",
    "X_train = pad_sequences(X_train, maxlen=MAXLEN)\n",
    "X_test = pad_sequences(X_test, maxlen=MAXLEN)\n",
    "nb_words = len(tk.word_index) + 1\n",
    "del train, test, X_train_raw, X_test_raw, tk"
   ]
  },
  {
   "cell_type": "code",
   "execution_count": null,
   "metadata": {},
   "outputs": [],
   "source": [
    "def build_model():\n",
    "    inputs = Input(shape=(MAXLEN,))\n",
    "    x = Embedding(nb_words, EMBEDDING_DIM)(inputs)\n",
    "    x = SpatialDropout1D(0.25)(x)\n",
    "    rnn_1 = Bidirectional(CuDNNGRU(64, return_sequences=True))(x)\n",
    "    rnn_2 = Bidirectional(CuDNNGRU(64, return_sequences=True))(rnn_1)\n",
    "    x = concatenate([rnn_1, rnn_2])\n",
    "    x1 = GlobalMaxPooling1D()(x)\n",
    "    x2 = GlobalAveragePooling1D()(x)\n",
    "    x3 = Lambda(lambda x: x[:, -1])(x)\n",
    "    x4 = Dense(1)(x)\n",
    "    x4 = Flatten()(x4)\n",
    "    x4 = Activation(\"softmax\")(x4)\n",
    "    x4 = RepeatVector(256)(x4)\n",
    "    x4 = Permute((2, 1))(x4)\n",
    "    x4 = Multiply()([x, x4])\n",
    "    x4 = Lambda(lambda x: K.sum(x, axis=1))(x4)\n",
    "    hidden = concatenate([x1, x2, x3, x4])\n",
    "    x = Dropout(0.5)(hidden)\n",
    "    x = Dense(128, activation=\"relu\")(x)\n",
    "    outputs = Dense(6, activation=\"sigmoid\")(x)\n",
    "    model = Model(inputs=inputs, outputs=outputs)\n",
    "    model.compile(loss='binary_crossentropy', optimizer=Adam(decay=1e-6, clipvalue=5), metrics=['accuracy'])\n",
    "    return model"
   ]
  },
  {
   "cell_type": "code",
   "execution_count": null,
   "metadata": {
    "scrolled": false
   },
   "outputs": [],
   "source": [
    "n_splits = 10\n",
    "kf = KFold(n_splits=10, shuffle=True, random_state=0)\n",
    "for i, (train_index, test_index) in enumerate(kf.split(X_train, y_train)):\n",
    "    model = build_model()\n",
    "    roc_eval = RocAucEvaluation(validation_data=(X_train[test_index], y_train[test_index]))\n",
    "    early_stopping = EarlyStopping(patience=5, restore_best_weights=True)\n",
    "    gc.collect()\n",
    "    model.fit(X_train[train_index], y_train[train_index], batch_size=128, epochs=50,\n",
    "              validation_data=(X_train[test_index], y_train[test_index]),\n",
    "              callbacks = [roc_eval, early_stopping])\n",
    "    pred = model.predict(X_test, batch_size=1024, verbose=1)\n",
    "    submission = pd.read_csv(\"data/sample_submission.csv\")\n",
    "    submission[classes] = pred\n",
    "    submission.to_csv(\"submission/v5_GRU_preprocess_char_submission_\" + str(i) + \".csv.gz\",\n",
    "                      compression=\"gzip\", index=False)"
   ]
  },
  {
   "cell_type": "code",
   "execution_count": null,
   "metadata": {},
   "outputs": [],
   "source": [
    "df1 = pd.read_csv(\"../v5_GRU_preprocess_char_submission_0.csv.gz\")\n",
    "df2 = pd.read_csv(\"../v5_GRU_preprocess_char_submission_1.csv.gz\")\n",
    "df3 = pd.read_csv(\"../v5_GRU_preprocess_char_submission_2.csv.gz\")\n",
    "df4 = pd.read_csv(\"../v5_GRU_preprocess_char_submission_3.csv.gz\")\n",
    "df5 = pd.read_csv(\"../v5_GRU_preprocess_char_submission_4.csv.gz\")\n",
    "df6 = pd.read_csv(\"../v5_GRU_preprocess_char_submission_5.csv.gz\")\n",
    "df7 = pd.read_csv(\"../v5_GRU_preprocess_char_submission_6.csv.gz\")\n",
    "df8 = pd.read_csv(\"../v5_GRU_preprocess_char_submission_7.csv.gz\")\n",
    "df9 = pd.read_csv(\"../v5_GRU_preprocess_char_submission_8.csv.gz\")\n",
    "df10 = pd.read_csv(\"../v5_GRU_preprocess_char_submission_9.csv.gz\")\n",
    "temp = df1.copy()\n",
    "cols = [\"toxic\", \"severe_toxic\", \"obscene\", \"threat\", \"insult\", \"identity_hate\"]\n",
    "for col in cols:\n",
    "    temp[col] = (df1[col] + df2[col] + df3[col] + df4[col] + df5[col] + df6[col] + df7[col] + df8[col] + df9[col] + df10[col]) / 10\n",
    "temp.to_csv(\"../v5_GRU_preprocess_char_submission.csv.gz\", compression=\"gzip\", index=False)"
   ]
  }
 ],
 "metadata": {
  "kernelspec": {
   "display_name": "qinhanmin-test",
   "language": "python",
   "name": "qinhanmin-test"
  },
  "language_info": {
   "codemirror_mode": {
    "name": "ipython",
    "version": 3
   },
   "file_extension": ".py",
   "mimetype": "text/x-python",
   "name": "python",
   "nbconvert_exporter": "python",
   "pygments_lexer": "ipython3",
   "version": "3.7.3"
  }
 },
 "nbformat": 4,
 "nbformat_minor": 2
}
