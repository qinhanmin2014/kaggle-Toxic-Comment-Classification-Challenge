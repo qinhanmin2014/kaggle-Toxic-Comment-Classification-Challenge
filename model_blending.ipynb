{
 "cells": [
  {
   "cell_type": "code",
   "execution_count": 1,
   "metadata": {},
   "outputs": [],
   "source": [
    "import numpy as np\n",
    "import pandas as pd"
   ]
  },
  {
   "cell_type": "code",
   "execution_count": 2,
   "metadata": {},
   "outputs": [],
   "source": [
    "df1 = pd.read_csv(\"submission/v5_GRU_fasttext_preprocess_submission.csv.gz\")\n",
    "df2 = pd.read_csv(\"submission/v5_GRU_glove_preprocess_submission.csv.gz\")\n",
    "df3 = pd.read_csv(\"submission/v6_CNN_fasttext_preprocess_submission.csv.gz\")\n",
    "df4 = pd.read_csv(\"submission/v6_CNN_glove_preprocess_submission.csv.gz\")\n",
    "df5 = pd.read_csv(\"submission/v5_GRU_preprocess_char_submission.csv.gz\")\n",
    "df6 = pd.read_csv(\"submission/v6_CNN_preprocess_char_submission.csv.gz\")"
   ]
  },
  {
   "cell_type": "code",
   "execution_count": 3,
   "metadata": {},
   "outputs": [
    {
     "name": "stdout",
     "output_type": "stream",
     "text": [
      "0.993376109813422\n"
     ]
    }
   ],
   "source": [
    "corrs = []\n",
    "cols = [\"toxic\", \"severe_toxic\", \"obscene\", \"threat\", \"insult\", \"identity_hate\"]\n",
    "for col in cols:\n",
    "    corrs.append(np.corrcoef(df1[col], df2[col]))\n",
    "print(np.mean(corrs))"
   ]
  },
  {
   "cell_type": "code",
   "execution_count": 4,
   "metadata": {},
   "outputs": [
    {
     "name": "stdout",
     "output_type": "stream",
     "text": [
      "0.985938079579442\n"
     ]
    }
   ],
   "source": [
    "corrs = []\n",
    "cols = [\"toxic\", \"severe_toxic\", \"obscene\", \"threat\", \"insult\", \"identity_hate\"]\n",
    "for col in cols:\n",
    "    corrs.append(np.corrcoef(df1[col], df3[col]))\n",
    "print(np.mean(corrs))"
   ]
  },
  {
   "cell_type": "code",
   "execution_count": 5,
   "metadata": {},
   "outputs": [
    {
     "name": "stdout",
     "output_type": "stream",
     "text": [
      "0.9586255402549565\n"
     ]
    }
   ],
   "source": [
    "corrs = []\n",
    "cols = [\"toxic\", \"severe_toxic\", \"obscene\", \"threat\", \"insult\", \"identity_hate\"]\n",
    "for col in cols:\n",
    "    corrs.append(np.corrcoef(df1[col], df5[col]))\n",
    "print(np.mean(corrs))"
   ]
  },
  {
   "cell_type": "code",
   "execution_count": 6,
   "metadata": {},
   "outputs": [],
   "source": [
    "temp = df1.copy()\n",
    "cols = [\"toxic\", \"severe_toxic\", \"obscene\", \"threat\", \"insult\", \"identity_hate\"]\n",
    "for col in cols:\n",
    "    temp[col] = (df1[col] + df2[col] + df3[col] + df4[col]) / 4\n",
    "temp.to_csv(\"submission/v5_v6_combine.csv.gz\", compression=\"gzip\", index=False)"
   ]
  },
  {
   "cell_type": "code",
   "execution_count": 7,
   "metadata": {},
   "outputs": [],
   "source": [
    "temp = df1.copy()\n",
    "cols = [\"toxic\", \"severe_toxic\", \"obscene\", \"threat\", \"insult\", \"identity_hate\"]\n",
    "for col in cols:\n",
    "    temp[col] = (df1[col] + df2[col] + df3[col] + df4[col] + df5[col] + df6[col]) / 6\n",
    "temp.to_csv(\"submission/v5_v6_char_combine.csv.gz\", compression=\"gzip\", index=False)"
   ]
  },
  {
   "cell_type": "code",
   "execution_count": 8,
   "metadata": {},
   "outputs": [],
   "source": [
    "temp = df1.copy()\n",
    "cols = [\"toxic\", \"severe_toxic\", \"obscene\", \"threat\", \"insult\", \"identity_hate\"]\n",
    "for col in cols:\n",
    "    temp[col] = (df1[col] * 0.7 + df2[col] * 0.3) * 0.7 + \\\n",
    "                (df3[col] * 0.7 + df4[col] * 0.3) * 0.3\n",
    "    temp[col] = temp[col] * 0.7 + df5[col] * 0.3\n",
    "temp.to_csv(\"submission/v5_v6_char_combine_weighted.csv.gz\", compression=\"gzip\", index=False)"
   ]
  }
 ],
 "metadata": {
  "kernelspec": {
   "display_name": "work",
   "language": "python",
   "name": "work"
  },
  "language_info": {
   "codemirror_mode": {
    "name": "ipython",
    "version": 3
   },
   "file_extension": ".py",
   "mimetype": "text/x-python",
   "name": "python",
   "nbconvert_exporter": "python",
   "pygments_lexer": "ipython3",
   "version": "3.7.3"
  }
 },
 "nbformat": 4,
 "nbformat_minor": 2
}
