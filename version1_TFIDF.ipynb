{
 "cells": [
  {
   "cell_type": "code",
   "execution_count": 1,
   "metadata": {},
   "outputs": [],
   "source": [
    "import warnings\n",
    "warnings.simplefilter(\"ignore\")\n",
    "import numpy as np\n",
    "import pandas as pd\n",
    "pd.set_option(\"display.max_columns\", None)\n",
    "import matplotlib.pyplot as plt\n",
    "%matplotlib inline\n",
    "from sklearn.feature_extraction.text import TfidfVectorizer\n",
    "from sklearn.model_selection import cross_val_score, StratifiedKFold\n",
    "from sklearn.linear_model import LogisticRegression"
   ]
  },
  {
   "cell_type": "code",
   "execution_count": 2,
   "metadata": {},
   "outputs": [],
   "source": [
    "train = pd.read_csv('data/train.csv')\n",
    "test = pd.read_csv('data/test.csv')\n",
    "train_text = train['comment_text']\n",
    "test_text = test['comment_text']\n",
    "vec = TfidfVectorizer(max_features=50000).fit(train_text)\n",
    "X_train = vec.transform(train_text)\n",
    "X_test = vec.transform(test_text)"
   ]
  },
  {
   "cell_type": "code",
   "execution_count": 3,
   "metadata": {},
   "outputs": [
    {
     "name": "stdout",
     "output_type": "stream",
     "text": [
      "cross validation score : 0.9781988175354064\n"
     ]
    }
   ],
   "source": [
    "cross_val_scores = []\n",
    "predictions = {'id': test['id']}\n",
    "classes = ['toxic', 'severe_toxic', 'obscene', 'threat', 'insult', 'identity_hate']\n",
    "for class_name in classes:\n",
    "    y_train = train[class_name]\n",
    "    clf = LogisticRegression(random_state=0)\n",
    "    cross_val_scores.append(np.mean(cross_val_score(clf, X_train, y_train, scoring='roc_auc')))\n",
    "    clf.fit(X_train, y_train)\n",
    "    predictions[class_name] = clf.predict_proba(X_test)[:, 1]\n",
    "print(\"cross validation score :\", np.mean(cross_val_scores))\n",
    "submission = pd.DataFrame(predictions, columns=[\"id\"] + classes)\n",
    "submission.to_csv('submission/v1_TFIDF_LR_submission.csv.gz', compression=\"gzip\", index=False)"
   ]
  }
 ],
 "metadata": {
  "kernelspec": {
   "display_name": "work",
   "language": "python",
   "name": "work"
  },
  "language_info": {
   "codemirror_mode": {
    "name": "ipython",
    "version": 3
   },
   "file_extension": ".py",
   "mimetype": "text/x-python",
   "name": "python",
   "nbconvert_exporter": "python",
   "pygments_lexer": "ipython3",
   "version": "3.7.3"
  }
 },
 "nbformat": 4,
 "nbformat_minor": 2
}
