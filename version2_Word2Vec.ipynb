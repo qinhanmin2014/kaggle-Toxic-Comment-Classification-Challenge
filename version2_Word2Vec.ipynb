{
 "cells": [
  {
   "cell_type": "code",
   "execution_count": 1,
   "metadata": {},
   "outputs": [],
   "source": [
    "import warnings\n",
    "warnings.simplefilter(\"ignore\")\n",
    "import numpy as np\n",
    "import pandas as pd\n",
    "pd.set_option(\"display.max_columns\", None)\n",
    "import matplotlib.pyplot as plt\n",
    "%matplotlib inline\n",
    "import gensim\n",
    "import nltk\n",
    "from sklearn.model_selection import cross_val_score, StratifiedKFold\n",
    "from sklearn.linear_model import LogisticRegression"
   ]
  },
  {
   "cell_type": "code",
   "execution_count": 2,
   "metadata": {},
   "outputs": [],
   "source": [
    "train = pd.read_csv('data/train.csv')\n",
    "test = pd.read_csv('data/test.csv')\n",
    "train_text = train['comment_text']\n",
    "test_text = test['comment_text']\n",
    "train_corpus = list(map(lambda x: gensim.utils.simple_preprocess(x), train_text))\n",
    "test_corpus = list(map(lambda x: gensim.utils.simple_preprocess(x), test_text))"
   ]
  },
  {
   "cell_type": "code",
   "execution_count": 3,
   "metadata": {},
   "outputs": [],
   "source": [
    "def get_coefs(word, *arr):\n",
    "    return word, np.asarray(arr, dtype='float32')\n",
    "\n",
    "\n",
    "def get_embedding(pretrained_word_vectors):\n",
    "    if pretrained_word_vectors == \"google\":\n",
    "        EMBEDDING_PATH = \"../embeddings/GoogleNews-vectors-negative300.bin\"\n",
    "        embedding_index = gensim.models.KeyedVectors.load_word2vec_format(EMBEDDING_PATH, binary=True)\n",
    "    if pretrained_word_vectors == \"glove\":\n",
    "        EMBEDDING_PATH = \"../embeddings/glove.840B.300d.txt\"\n",
    "        embedding_index = dict(get_coefs(*o.strip().split(\" \")) for o in open(EMBEDDING_PATH))\n",
    "    elif pretrained_word_vectors == \"fasttext\":\n",
    "        EMBEDDING_PATH = \"../embeddings/crawl-300d-2M.vec\"\n",
    "        embedding_index = dict(get_coefs(*o.strip().split(\" \")) for o in open(EMBEDDING_PATH))\n",
    "    return embedding_index"
   ]
  },
  {
   "cell_type": "code",
   "execution_count": 4,
   "metadata": {},
   "outputs": [],
   "source": [
    "def calc_vec(corpus, pretrained_word_vectors, embedding_index):\n",
    "    english_stemmer = nltk.stem.SnowballStemmer(\"english\")\n",
    "    result = np.zeros((len(corpus), 300))\n",
    "    for i in range(len(corpus)):\n",
    "        cnt = 0\n",
    "        cur_result = np.zeros(300)\n",
    "        for word in corpus[i]:\n",
    "            if pretrained_word_vectors == \"google\":\n",
    "                try:\n",
    "                    cur_vec = embedding_index.get_vector(word)\n",
    "                except Exception:\n",
    "                    try:\n",
    "                        word = english_stemmer.stem(word)\n",
    "                        cur_vec = embedding_index.get_vector(word)\n",
    "                    except Exception:\n",
    "                        continue    \n",
    "            else:\n",
    "                cur_vec = embedding_index.get(word)\n",
    "                if cur_vec is None:\n",
    "                    word = english_stemmer.stem(word)\n",
    "                    cur_vec = embedding_index.get(word)\n",
    "                    if cur_vec is None:\n",
    "                        continue\n",
    "            cur_result = cur_result + cur_vec\n",
    "            cnt += 1\n",
    "        if cnt != 0:\n",
    "            cur_result /= cnt\n",
    "        result[i] = cur_result\n",
    "    return result"
   ]
  },
  {
   "cell_type": "code",
   "execution_count": 5,
   "metadata": {},
   "outputs": [
    {
     "name": "stdout",
     "output_type": "stream",
     "text": [
      "cross validation score : 0.963616013836455\n"
     ]
    }
   ],
   "source": [
    "embedding_index = get_embedding(\"google\")\n",
    "X_train = calc_vec(train_corpus, \"google\", embedding_index)\n",
    "X_test = calc_vec(test_corpus, \"google\", embedding_index)\n",
    "cross_val_scores = []\n",
    "predictions = {'id': test['id']}\n",
    "classes = ['toxic', 'severe_toxic', 'obscene', 'threat', 'insult', 'identity_hate']\n",
    "for class_name in classes:\n",
    "    y_train = train[class_name]\n",
    "    clf = LogisticRegression(random_state=0)\n",
    "    cross_val_scores.append(np.mean(cross_val_score(clf, X_train, y_train, scoring='roc_auc')))\n",
    "    clf.fit(X_train, y_train)\n",
    "    predictions[class_name] = clf.predict_proba(X_test)[:, 1]\n",
    "print(\"cross validation score :\", np.mean(cross_val_scores))\n",
    "submission = pd.DataFrame(predictions, columns=[\"id\"] + classes)\n",
    "submission.to_csv('submission/v2_Word2Vec_google_submission.csv.gz', compression=\"gzip\", index=False)"
   ]
  },
  {
   "cell_type": "code",
   "execution_count": 6,
   "metadata": {},
   "outputs": [
    {
     "name": "stdout",
     "output_type": "stream",
     "text": [
      "cross validation score : 0.9674673820856302\n"
     ]
    }
   ],
   "source": [
    "embedding_index = get_embedding(\"glove\")\n",
    "X_train = calc_vec(train_corpus, \"glove\", embedding_index)\n",
    "X_test = calc_vec(test_corpus, \"glove\", embedding_index)\n",
    "cross_val_scores = []\n",
    "predictions = {'id': test['id']}\n",
    "classes = ['toxic', 'severe_toxic', 'obscene', 'threat', 'insult', 'identity_hate']\n",
    "for class_name in classes:\n",
    "    y_train = train[class_name]\n",
    "    clf = LogisticRegression(random_state=0)\n",
    "    cross_val_scores.append(np.mean(cross_val_score(clf, X_train, y_train, scoring='roc_auc')))\n",
    "    clf.fit(X_train, y_train)\n",
    "    predictions[class_name] = clf.predict_proba(X_test)[:, 1]\n",
    "print(\"cross validation score :\", np.mean(cross_val_scores))\n",
    "submission = pd.DataFrame(predictions, columns=[\"id\"] + classes)\n",
    "submission.to_csv('submission/v2_Word2Vec_glove_submission.csv.gz', compression=\"gzip\", index=False)"
   ]
  },
  {
   "cell_type": "code",
   "execution_count": 7,
   "metadata": {},
   "outputs": [
    {
     "name": "stdout",
     "output_type": "stream",
     "text": [
      "cross validation score : 0.969067032764253\n"
     ]
    }
   ],
   "source": [
    "embedding_index = get_embedding(\"fasttext\")\n",
    "X_train = calc_vec(train_corpus, \"fasttext\", embedding_index)\n",
    "X_test = calc_vec(test_corpus, \"fasttext\", embedding_index)\n",
    "cross_val_scores = []\n",
    "predictions = {'id': test['id']}\n",
    "classes = ['toxic', 'severe_toxic', 'obscene', 'threat', 'insult', 'identity_hate']\n",
    "for class_name in classes:\n",
    "    y_train = train[class_name]\n",
    "    clf = LogisticRegression(random_state=0)\n",
    "    cross_val_scores.append(np.mean(cross_val_score(clf, X_train, y_train, scoring='roc_auc')))\n",
    "    clf.fit(X_train, y_train)\n",
    "    predictions[class_name] = clf.predict_proba(X_test)[:, 1]\n",
    "print(\"cross validation score :\", np.mean(cross_val_scores))\n",
    "submission = pd.DataFrame(predictions, columns=[\"id\"] + classes)\n",
    "submission.to_csv('submission/v2_Word2Vec_fasttext_submission.csv.gz', compression=\"gzip\", index=False)"
   ]
  }
 ],
 "metadata": {
  "kernelspec": {
   "display_name": "work",
   "language": "python",
   "name": "work"
  },
  "language_info": {
   "codemirror_mode": {
    "name": "ipython",
    "version": 3
   },
   "file_extension": ".py",
   "mimetype": "text/x-python",
   "name": "python",
   "nbconvert_exporter": "python",
   "pygments_lexer": "ipython3",
   "version": "3.7.3"
  }
 },
 "nbformat": 4,
 "nbformat_minor": 2
}
